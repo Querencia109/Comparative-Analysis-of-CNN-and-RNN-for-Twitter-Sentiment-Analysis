{
  "nbformat": 4,
  "nbformat_minor": 0,
  "metadata": {
    "colab": {
      "provenance": [],
      "gpuType": "T4",
      "collapsed_sections": [
        "wag550TzmQt9",
        "fVrhZkb9mZRh",
        "3MLsiBd5prZy"
      ]
    },
    "kernelspec": {
      "name": "python3",
      "display_name": "Python 3"
    },
    "language_info": {
      "name": "python"
    },
    "accelerator": "GPU"
  },
  "cells": [
    {
      "cell_type": "markdown",
      "source": [
        "# Initialization"
      ],
      "metadata": {
        "id": "wag550TzmQt9"
      }
    },
    {
      "cell_type": "code",
      "source": [
        "import pandas as pd\n",
        "import numpy as np\n",
        "import nltk\n",
        "from tensorflow.keras.models import Sequential\n",
        "from tensorflow.keras.layers import Dense\n",
        "from tensorflow.keras.layers import Flatten\n",
        "from tensorflow.keras.layers import Conv1D\n",
        "from tensorflow.keras.layers import MaxPooling1D\n",
        "from tensorflow.keras.layers import Embedding\n",
        "from tensorflow.keras.preprocessing.text import Tokenizer\n",
        "from tensorflow.keras.preprocessing import sequence\n",
        "from sklearn.preprocessing import LabelEncoder\n",
        "from sklearn.metrics import classification_report\n",
        "\n",
        "# fix random seed for reproducibility\n",
        "\n",
        "seed = 42\n",
        "np.random.seed(seed)"
      ],
      "metadata": {
        "id": "jeKZcwi6lmwX"
      },
      "execution_count": null,
      "outputs": []
    },
    {
      "cell_type": "markdown",
      "source": [
        "# Loading Dataset"
      ],
      "metadata": {
        "id": "fVrhZkb9mZRh"
      }
    },
    {
      "cell_type": "code",
      "source": [
        "# training dataset\n",
        "\n",
        "df_train = pd.read_parquet('/content/sample_data/train_dl.parquet')\n",
        "\n",
        "label_column = 'output'\n",
        "\n",
        "# Separate features (X) and labels (y)\n",
        "X_train = df_train.drop(columns=['output', 'instruction'])  # Drop 'output' and 'instruction' columns to get features\n",
        "y_train = df_train['output']  # Set 'output' column as the label\n",
        "\n",
        "# Inspect features (X) and labels (y)\n",
        "print(\"Features (X):\")\n",
        "print(X_train.head())\n",
        "print(\"\\nLabels (y):\")\n",
        "print(y_train.head())"
      ],
      "metadata": {
        "colab": {
          "base_uri": "https://localhost:8080/"
        },
        "id": "gOUwiLXNlLZQ",
        "outputId": "03bcb2f0-b0da-4b01-bdda-18ed0133e610"
      },
      "execution_count": null,
      "outputs": [
        {
          "output_type": "stream",
          "name": "stdout",
          "text": [
            "Features (X):\n",
            "                                               input\n",
            "0  $BYND - JPMorgan reels in expectations on Beyo...\n",
            "1  $CCL $RCL - Nomura points to bookings weakness...\n",
            "2  $CX - Cemex cut at Credit Suisse, J.P. Morgan ...\n",
            "3  $ESS: BTIG Research cuts to Neutral https://t....\n",
            "4  $FNKO - Funko slides after Piper Jaffray PT cu...\n",
            "\n",
            "Labels (y):\n",
            "0    negative\n",
            "1    negative\n",
            "2    negative\n",
            "3    negative\n",
            "4    negative\n",
            "Name: output, dtype: object\n"
          ]
        }
      ]
    },
    {
      "cell_type": "code",
      "source": [
        "# validation dataset\n",
        "df_valid = pd.read_parquet('/content/sample_data/validation_dl.parquet')\n",
        "\n",
        "\n",
        "# Separate features (X) and labels (y)\n",
        "X_valid = df_valid.drop(columns=['output', 'instruction'])  # Drop 'output' and 'instruction' columns to get features\n",
        "y_valid = df_valid['output']  # Set 'output' column as the label\n",
        "\n",
        "# Inspect features (X) and labels (y)\n",
        "print(\"Features (X):\")\n",
        "print(X_valid.head())\n",
        "print(\"\\nLabels (y):\")\n",
        "print(y_valid.head())"
      ],
      "metadata": {
        "colab": {
          "base_uri": "https://localhost:8080/"
        },
        "id": "IYloOrNYnyjK",
        "outputId": "9e45fa68-be05-42dc-e116-df8434d63e3c"
      },
      "execution_count": null,
      "outputs": [
        {
          "output_type": "stream",
          "name": "stdout",
          "text": [
            "Features (X):\n",
            "                                               input\n",
            "0  $ALLY - Ally Financial pulls outlook https://t...\n",
            "1  $DELL $HPE - Dell, HPE targets trimmed on comp...\n",
            "2  $PRTY - Moody's turns negative on Party City h...\n",
            "3                   $SAN: Deutsche Bank cuts to Hold\n",
            "4                  $SITC: Compass Point cuts to Sell\n",
            "\n",
            "Labels (y):\n",
            "0    negative\n",
            "1    negative\n",
            "2    negative\n",
            "3    negative\n",
            "4    negative\n",
            "Name: output, dtype: object\n"
          ]
        }
      ]
    },
    {
      "cell_type": "markdown",
      "source": [
        "# Preprocessing"
      ],
      "metadata": {
        "id": "3MLsiBd5prZy"
      }
    },
    {
      "cell_type": "code",
      "source": [
        "# 1. Normalization of misspelled words (You'll need a dictionary for this step)\n",
        "\n",
        "# Example dictionary\n",
        "misspelled_dict = {\n",
        "    'mispeling': 'misspelling',\n",
        "    'writen': 'written',\n",
        "    # Add more entries as needed\n",
        "}\n",
        "\n",
        "def normalize_misspelled(text_data):\n",
        "    for misspelled, corrected in misspelled_dict.items():\n",
        "        text_data = text_data.replace(misspelled, corrected)\n",
        "    return text_data\n",
        "\n",
        "df_train['input'] = df_train['input'].apply(normalize_misspelled)\n",
        "df_valid['input'] = df_valid['input'].apply(normalize_misspelled)"
      ],
      "metadata": {
        "id": "bQyIeCjZ62Y3"
      },
      "execution_count": null,
      "outputs": []
    },
    {
      "cell_type": "code",
      "source": [
        "# 2. Lowercasing\n",
        "\n",
        "def lowercase(text_data):\n",
        "    return text_data.lower()\n",
        "\n",
        "df_train['input'] = df_train['input'].apply(lowercase)\n",
        "df_valid['input'] = df_valid['input'].apply(lowercase)"
      ],
      "metadata": {
        "id": "dnvCZpbntfh9"
      },
      "execution_count": null,
      "outputs": []
    },
    {
      "cell_type": "code",
      "source": [
        "# 3. Remove URLs and Hashtags\n",
        "\n",
        "import re\n",
        "\n",
        "def remove_url_hashtags(text_data):\n",
        "    text_data = re.sub(r\"http\\S+\", \"\", text_data)  # Remove URLs\n",
        "    text_data = re.sub(r\"#\\S+\", \"\", text_data)     # Remove hashtags\n",
        "    return text_data\n",
        "\n",
        "df_train['input'] = df_train['input'].apply(remove_url_hashtags)\n",
        "df_valid['input'] = df_valid['input'].apply(remove_url_hashtags)"
      ],
      "metadata": {
        "id": "5s2tjj2sHef7"
      },
      "execution_count": null,
      "outputs": []
    },
    {
      "cell_type": "code",
      "source": [
        "# 4. Replace tabs and line breaks with a blank, and quotation marks with apostrophes\n",
        "\n",
        "def replace_special_characters(text_data):\n",
        "    text_data = text_data.replace('\\t', ' ')    # Replace tabs with a blank\n",
        "    text_data = text_data.replace('\\n', ' ')    # Replace line breaks with a blank\n",
        "    text_data = text_data.replace('\"', \"'\")     # Replace quotation marks with apostrophes\n",
        "    return text_data\n",
        "\n",
        "df_train['input'] = df_train['input'].apply(replace_special_characters)\n",
        "df_valid['input'] = df_valid['input'].apply(replace_special_characters)"
      ],
      "metadata": {
        "id": "22vVy4r64n7X"
      },
      "execution_count": null,
      "outputs": []
    },
    {
      "cell_type": "code",
      "source": [
        "# 5. Remove punctuation, except for apostrophes\n",
        "\n",
        "def remove_punctuation(text_data):\n",
        "    punctuation = '''!()-[]{};:'\"\\,<>./?@#$%^&*_~'''\n",
        "    for char in punctuation:\n",
        "        text_data = text_data.replace(char, '')\n",
        "    return text_data\n",
        "\n",
        "df_train['input'] = df_train['input'].apply(remove_punctuation)\n",
        "df_valid['input'] = df_valid['input'].apply(remove_punctuation)\n"
      ],
      "metadata": {
        "id": "eAgdwIfF4pmk"
      },
      "execution_count": null,
      "outputs": []
    },
    {
      "cell_type": "code",
      "source": [
        "# 6. Remove vowels repeated in sequence at least three times\n",
        "\n",
        "def remove_repeated_vowels(text_data):\n",
        "    vowels = 'aeiou'\n",
        "    for vowel in vowels:\n",
        "        pattern = vowel + '{3,}'\n",
        "        text_data = re.sub(pattern, vowel*2, text_data)  # Replace repeated vowels with two occurrences\n",
        "    return text_data\n",
        "\n",
        "df_train['input'] = df_train['input'].apply(remove_repeated_vowels)\n",
        "df_valid['input'] = df_valid['input'].apply(remove_repeated_vowels)\n"
      ],
      "metadata": {
        "id": "XjoqvTip4z6G"
      },
      "execution_count": null,
      "outputs": []
    },
    {
      "cell_type": "code",
      "source": [
        "# 7. Convert emoticons into sentiment tags (You'll need a dictionary for this step)\n",
        "\n",
        "# Example dictionary\n",
        "emoticon_dict = {\n",
        "    ':)': 'happy',\n",
        "    ':(': 'sad',\n",
        "    # Add more entries as needed\n",
        "}\n",
        "\n",
        "def convert_emoticons(text_data):\n",
        "    for emoticon, sentiment in emoticon_dict.items():\n",
        "        text_data = text_data.replace(emoticon, sentiment)\n",
        "    return text_data\n",
        "\n",
        "df_train['input'] = df_train['input'].apply(convert_emoticons)\n",
        "df_valid['input'] = df_valid['input'].apply(convert_emoticons)"
      ],
      "metadata": {
        "id": "UtgwQlXR42Ee"
      },
      "execution_count": null,
      "outputs": []
    },
    {
      "cell_type": "code",
      "source": [
        "# 8. Remove numbers\n",
        "\n",
        "def remove_numbers(text_data):\n",
        "    return ''.join(word for word in text_data if not word.isdigit())\n",
        "\n",
        "df_train['input'] = df_train['input'].apply(remove_numbers)\n",
        "df_valid['input'] = df_valid['input'].apply(remove_numbers)"
      ],
      "metadata": {
        "id": "0aTZZjHj4_EP"
      },
      "execution_count": null,
      "outputs": []
    },
    {
      "cell_type": "code",
      "source": [
        "# 9. Remove Foreign characters\n",
        "\n",
        "def remove_foreign_characters(text_data):\n",
        "\t\t# Remove non-English characters using regex\n",
        "\t\treturn re.sub(r'[^\\x00-\\x7F]+', '', text_data)\n",
        "\n",
        "df_train['input'] = df_train['input'].apply(remove_foreign_characters)\n",
        "df_valid['input'] = df_valid['input'].apply(remove_foreign_characters)"
      ],
      "metadata": {
        "id": "R6VO9tf_5BN9"
      },
      "execution_count": null,
      "outputs": []
    },
    {
      "cell_type": "code",
      "source": [
        "# TF-IDF weighting scheme\n",
        "\n",
        "from sklearn.feature_extraction.text import TfidfVectorizer\n",
        "\n",
        "tfidf_vectorizer = TfidfVectorizer()\n",
        "tfidf_train = tfidf_vectorizer.fit_transform(df_train['input'])\n",
        "tfidf_valid = tfidf_vectorizer.transform(df_valid['input'])"
      ],
      "metadata": {
        "id": "0pG2iANi5PPM"
      },
      "execution_count": null,
      "outputs": []
    },
    {
      "cell_type": "code",
      "source": [
        "# Stemming\n",
        "\n",
        "from nltk.stem import PorterStemmer\n",
        "\n",
        "porter = PorterStemmer()\n",
        "\n",
        "def stemming(text_data):\n",
        "    return ' '.join(porter.stem(word) for word in text_data.split())\n",
        "\n",
        "df_train['input'] = df_train['input'].apply(stemming)\n",
        "df_valid['input'] = df_valid['input'].apply(stemming)"
      ],
      "metadata": {
        "id": "2Q5a2QfX5Rgr"
      },
      "execution_count": null,
      "outputs": []
    },
    {
      "cell_type": "code",
      "source": [
        "# Tokenization\n",
        "import nltk\n",
        "nltk.download('punkt')\n",
        "from nltk.tokenize import word_tokenize\n",
        "\n",
        "def tokenize(text_data):\n",
        "    return word_tokenize(text_data)\n",
        "\n",
        "df_train['input'] = df_train['input'].apply(tokenize)\n",
        "df_valid['input'] = df_valid['input'].apply(tokenize)"
      ],
      "metadata": {
        "colab": {
          "base_uri": "https://localhost:8080/"
        },
        "id": "E_2VLYma5TdA",
        "outputId": "e9714d5c-898a-4075-94d0-44ecdfdf8fea"
      },
      "execution_count": null,
      "outputs": [
        {
          "output_type": "stream",
          "name": "stderr",
          "text": [
            "[nltk_data] Downloading package punkt to /root/nltk_data...\n",
            "[nltk_data]   Unzipping tokenizers/punkt.zip.\n"
          ]
        }
      ]
    },
    {
      "cell_type": "markdown",
      "source": [
        "# Oversampling"
      ],
      "metadata": {
        "id": "BRyAiv2Q53ht"
      }
    },
    {
      "cell_type": "code",
      "source": [
        "import numpy as np\n",
        "import pandas as pd\n",
        "from keras.preprocessing.text import Tokenizer\n",
        "from keras.preprocessing.sequence import pad_sequences\n",
        "from keras.models import Sequential\n",
        "from keras.layers import Embedding, Conv1D, MaxPooling1D, GlobalMaxPooling1D, Dense, Dropout\n",
        "from keras.optimizers import Adam\n",
        "from sklearn.preprocessing import LabelEncoder\n",
        "from sklearn.metrics import classification_report\n",
        "from imblearn.over_sampling import RandomOverSampler\n",
        "\n",
        "\n",
        "# Print original class distribution\n",
        "print(\"Original class distribution in training data:\")\n",
        "print(df_train['output'].value_counts())\n",
        "\n",
        "print(\"Original class distribution in validation data:\")\n",
        "print(df_valid['output'].value_counts())\n",
        "\n",
        "# Parameters\n",
        "max_words = 10000\n",
        "maxlen = 140  # maximum length of a tweet\n",
        "\n",
        "# Tokenizer\n",
        "tokenizer = Tokenizer(num_words=max_words)\n",
        "tokenizer.fit_on_texts(df_train['input'])\n",
        "\n",
        "# Convert text to sequences\n",
        "X_train_sequences = tokenizer.texts_to_sequences(df_train['input'])\n",
        "X_valid_sequences = tokenizer.texts_to_sequences(df_valid['input'])\n",
        "\n",
        "# Padding sequences\n",
        "X_train_pad = pad_sequences(X_train_sequences, maxlen=maxlen, padding='post')\n",
        "X_valid_pad = pad_sequences(X_valid_sequences, maxlen=maxlen, padding='post')\n",
        "\n",
        "# Calculate class distribution\n",
        "class_distribution = df_train['output'].value_counts()\n",
        "\n",
        "# Identify minority class\n",
        "minority_class = class_distribution.idxmin()\n",
        "\n",
        "# Determine the number of samples in the minority class\n",
        "minority_samples = class_distribution[minority_class]\n",
        "\n",
        "# Instantiate RandomOverSampler\n",
        "ros = RandomOverSampler(random_state=42)\n",
        "\n",
        "# Fit and apply oversampling to training data\n",
        "X_train_resampled, y_train_resampled = ros.fit_resample(X_train_pad, y_train)\n",
        "\n",
        "# Fit and apply oversampling to training data\n",
        "X_train_resampled, y_train_resampled = ros.fit_resample(X_train_pad, y_train)\n",
        "\n",
        "# Convert labels to binary format if needed\n",
        "encoder = LabelEncoder()\n",
        "encoded_y_train_resampled = encoder.fit_transform(y_train_resampled)\n",
        "\n",
        "# Convert labels to categorical\n",
        "y_train_resampled_cat = pd.get_dummies(y_train_resampled).values\n",
        "y_valid_cat = pd.get_dummies(y_valid).values\n",
        "\n",
        "print(\"Resampled X shape:\", X_train_resampled.shape)\n",
        "print(\"Resampled y distribution:\", np.bincount(encoded_y_train_resampled))\n",
        "\n",
        "# Print class distribution after oversampling\n",
        "print(\"Class distribution in training data after oversampling:\")\n",
        "print(pd.Series(y_train_resampled).value_counts())\n",
        "\n",
        "print(\"Class distribution in validation data (unchanged):\")\n",
        "print(df_valid['output'].value_counts())"
      ],
      "metadata": {
        "id": "WcUfWaUx52fK",
        "colab": {
          "base_uri": "https://localhost:8080/"
        },
        "outputId": "61685694-d4cd-4a84-ea4d-a570901e2144"
      },
      "execution_count": null,
      "outputs": [
        {
          "output_type": "stream",
          "name": "stdout",
          "text": [
            "Original class distribution in training data:\n",
            "output\n",
            "neutral     6178\n",
            "positive    1923\n",
            "negative    1442\n",
            "Name: count, dtype: int64\n",
            "Original class distribution in validation data:\n",
            "output\n",
            "neutral     1566\n",
            "positive     475\n",
            "negative     347\n",
            "Name: count, dtype: int64\n",
            "Resampled X shape: (18534, 140)\n",
            "Resampled y distribution: [6178 6178 6178]\n",
            "Class distribution in training data after oversampling:\n",
            "output\n",
            "negative    6178\n",
            "positive    6178\n",
            "neutral     6178\n",
            "Name: count, dtype: int64\n",
            "Class distribution in validation data (unchanged):\n",
            "output\n",
            "neutral     1566\n",
            "positive     475\n",
            "negative     347\n",
            "Name: count, dtype: int64\n"
          ]
        }
      ]
    },
    {
      "cell_type": "markdown",
      "source": [
        "# CNN"
      ],
      "metadata": {
        "id": "1qOtwQhkHr7w"
      }
    },
    {
      "cell_type": "code",
      "source": [
        "from keras.models import Sequential\n",
        "from keras.layers import Embedding, Conv1D, MaxPooling1D, GlobalMaxPooling1D, Dense, Dropout\n",
        "from keras.optimizers import Adam\n",
        "\n",
        "# Model Architecture\n",
        "embedding_dim = 300\n",
        "filters = 128\n",
        "kernel_size = 5\n",
        "\n",
        "cnn_model = Sequential()\n",
        "cnn_model.add(Embedding(max_words, embedding_dim, input_length=maxlen))\n",
        "cnn_model.add(Conv1D(filters, kernel_size, activation='elu'))\n",
        "cnn_model.add(MaxPooling1D())\n",
        "cnn_model.add(Conv1D(filters, kernel_size, activation='elu'))\n",
        "cnn_model.add(MaxPooling1D())\n",
        "cnn_model.add(Conv1D(filters, kernel_size, activation='elu'))\n",
        "cnn_model.add(MaxPooling1D())\n",
        "cnn_model.add(Conv1D(filters, kernel_size, activation='elu'))\n",
        "cnn_model.add(GlobalMaxPooling1D())\n",
        "cnn_model.add(Dense(128, activation='relu'))\n",
        "cnn_model.add(Dropout(0.5))\n",
        "cnn_model.add(Dense(3, activation='softmax'))  # 3 classes: positive, negative, neutral\n",
        "\n",
        "cnn_model.compile(optimizer=Adam(learning_rate=0.001),\n",
        "                  loss='categorical_crossentropy',\n",
        "                  metrics=['accuracy'])\n",
        "\n",
        "# Training the model\n",
        "cnn_history = cnn_model.fit(X_train_resampled, y_train_resampled_cat,\n",
        "                            epochs=25,\n",
        "                            batch_size=32,\n",
        "                            validation_data=(X_valid_pad, y_valid_cat))\n",
        "\n",
        "# Evaluating the model\n",
        "cnn_loss, cnn_accuracy = cnn_model.evaluate(X_valid_pad, y_valid_cat)\n",
        "print(\"CNN Validation Accuracy:\", cnn_accuracy)\n",
        "\n",
        "# Predictions and Classification Report\n",
        "cnn_y_pred = cnn_model.predict(X_valid_pad)\n",
        "cnn_y_pred_classes = np.argmax(cnn_y_pred, axis=1)\n",
        "cnn_y_true = np.argmax(y_valid_cat, axis=1)\n",
        "\n",
        "print(classification_report(cnn_y_true, cnn_y_pred_classes, target_names=encoder.classes_))"
      ],
      "metadata": {
        "colab": {
          "base_uri": "https://localhost:8080/"
        },
        "id": "RrajqPbsRzs5",
        "outputId": "44b5c201-8528-478c-b8b0-446382fb49de"
      },
      "execution_count": null,
      "outputs": [
        {
          "output_type": "stream",
          "name": "stdout",
          "text": [
            "Epoch 1/25\n",
            "580/580 [==============================] - 131s 223ms/step - loss: 0.7050 - accuracy: 0.6552 - val_loss: 0.5792 - val_accuracy: 0.7755\n",
            "Epoch 2/25\n",
            "580/580 [==============================] - 128s 222ms/step - loss: 0.1684 - accuracy: 0.9486 - val_loss: 0.7887 - val_accuracy: 0.8132\n",
            "Epoch 3/25\n",
            "580/580 [==============================] - 127s 220ms/step - loss: 0.0755 - accuracy: 0.9790 - val_loss: 0.8969 - val_accuracy: 0.8124\n",
            "Epoch 4/25\n",
            "580/580 [==============================] - 130s 224ms/step - loss: 0.0408 - accuracy: 0.9894 - val_loss: 0.9167 - val_accuracy: 0.8057\n",
            "Epoch 5/25\n",
            "580/580 [==============================] - 127s 220ms/step - loss: 0.0390 - accuracy: 0.9894 - val_loss: 1.2118 - val_accuracy: 0.7835\n",
            "Epoch 6/25\n",
            "580/580 [==============================] - 127s 218ms/step - loss: 0.0380 - accuracy: 0.9899 - val_loss: 1.3924 - val_accuracy: 0.8011\n",
            "Epoch 7/25\n",
            "580/580 [==============================] - 134s 231ms/step - loss: 0.0252 - accuracy: 0.9929 - val_loss: 1.4999 - val_accuracy: 0.8061\n",
            "Epoch 8/25\n",
            "580/580 [==============================] - 128s 221ms/step - loss: 0.0273 - accuracy: 0.9934 - val_loss: 1.8781 - val_accuracy: 0.8040\n",
            "Epoch 9/25\n",
            "580/580 [==============================] - 130s 224ms/step - loss: 0.0241 - accuracy: 0.9936 - val_loss: 1.7998 - val_accuracy: 0.7906\n",
            "Epoch 10/25\n",
            "580/580 [==============================] - 129s 222ms/step - loss: 0.0188 - accuracy: 0.9947 - val_loss: 1.4685 - val_accuracy: 0.7806\n",
            "Epoch 11/25\n",
            "580/580 [==============================] - 130s 224ms/step - loss: 0.0246 - accuracy: 0.9928 - val_loss: 2.0732 - val_accuracy: 0.8003\n",
            "Epoch 12/25\n",
            "580/580 [==============================] - 127s 218ms/step - loss: 0.0246 - accuracy: 0.9941 - val_loss: 1.5328 - val_accuracy: 0.7818\n",
            "Epoch 13/25\n",
            "580/580 [==============================] - 127s 219ms/step - loss: 0.0193 - accuracy: 0.9948 - val_loss: 1.7299 - val_accuracy: 0.7952\n",
            "Epoch 14/25\n",
            "580/580 [==============================] - 132s 228ms/step - loss: 0.0187 - accuracy: 0.9946 - val_loss: 2.1533 - val_accuracy: 0.7839\n",
            "Epoch 15/25\n",
            "580/580 [==============================] - 125s 216ms/step - loss: 0.0208 - accuracy: 0.9944 - val_loss: 2.9469 - val_accuracy: 0.7910\n",
            "Epoch 16/25\n",
            "580/580 [==============================] - 127s 219ms/step - loss: 0.0263 - accuracy: 0.9941 - val_loss: 2.6606 - val_accuracy: 0.7864\n",
            "Epoch 17/25\n",
            "580/580 [==============================] - 127s 219ms/step - loss: 0.0176 - accuracy: 0.9948 - val_loss: 3.2530 - val_accuracy: 0.8023\n",
            "Epoch 18/25\n",
            "580/580 [==============================] - 128s 220ms/step - loss: 0.0328 - accuracy: 0.9937 - val_loss: 3.1438 - val_accuracy: 0.7944\n",
            "Epoch 19/25\n",
            "580/580 [==============================] - 130s 224ms/step - loss: 0.0153 - accuracy: 0.9954 - val_loss: 3.1196 - val_accuracy: 0.7977\n",
            "Epoch 20/25\n",
            "580/580 [==============================] - 126s 217ms/step - loss: 0.0081 - accuracy: 0.9976 - val_loss: 2.9413 - val_accuracy: 0.8003\n",
            "Epoch 21/25\n",
            "580/580 [==============================] - 129s 222ms/step - loss: 0.0149 - accuracy: 0.9967 - val_loss: 2.3848 - val_accuracy: 0.7956\n",
            "Epoch 22/25\n",
            "580/580 [==============================] - 125s 216ms/step - loss: 0.0161 - accuracy: 0.9961 - val_loss: 3.8457 - val_accuracy: 0.7936\n",
            "Epoch 23/25\n",
            "580/580 [==============================] - 130s 223ms/step - loss: 0.0269 - accuracy: 0.9953 - val_loss: 3.1769 - val_accuracy: 0.7973\n",
            "Epoch 24/25\n",
            "580/580 [==============================] - 129s 223ms/step - loss: 0.0076 - accuracy: 0.9977 - val_loss: 3.6701 - val_accuracy: 0.7969\n",
            "Epoch 25/25\n",
            "580/580 [==============================] - 129s 222ms/step - loss: 0.0194 - accuracy: 0.9970 - val_loss: 4.9803 - val_accuracy: 0.7739\n",
            "75/75 [==============================] - 3s 45ms/step - loss: 4.9803 - accuracy: 0.7739\n",
            "CNN Validation Accuracy: 0.7738693356513977\n",
            "75/75 [==============================] - 5s 59ms/step\n",
            "              precision    recall  f1-score   support\n",
            "\n",
            "    negative       0.54      0.66      0.60       347\n",
            "     neutral       0.87      0.83      0.85      1566\n",
            "    positive       0.67      0.67      0.67       475\n",
            "\n",
            "    accuracy                           0.77      2388\n",
            "   macro avg       0.69      0.72      0.71      2388\n",
            "weighted avg       0.78      0.77      0.78      2388\n",
            "\n"
          ]
        }
      ]
    },
    {
      "cell_type": "code",
      "source": [
        "import numpy as np\n",
        "import matplotlib.pyplot as plt\n",
        "import seaborn as sns\n",
        "from sklearn.metrics import classification_report, confusion_matrix\n",
        "\n",
        "# Confusion Matrix\n",
        "conf_matrix1 = confusion_matrix(cnn_y_true, cnn_y_pred_classes)\n",
        "\n",
        "# Plot Confusion Matrix\n",
        "plt.figure(figsize=(8, 6))\n",
        "sns.heatmap(conf_matrix1, annot=True, fmt='d', cmap='Blues', xticklabels=encoder.classes_, yticklabels=encoder.classes_)\n",
        "plt.xlabel('Predicted Label')\n",
        "plt.ylabel('True Label')\n",
        "plt.title('Confusion Matrix')\n",
        "plt.show()"
      ],
      "metadata": {
        "colab": {
          "base_uri": "https://localhost:8080/",
          "height": 564
        },
        "id": "A_JNSux-hPHL",
        "outputId": "a6307909-cfcb-4c9d-8451-64508a60db18"
      },
      "execution_count": null,
      "outputs": [
        {
          "output_type": "display_data",
          "data": {
            "text/plain": [
              "<Figure size 800x600 with 2 Axes>"
            ],
            "image/png": "[encoded data removed]"
          },
          "metadata": {}
        }
      ]
    },
    {
      "cell_type": "markdown",
      "source": [
        "# RNN"
      ],
      "metadata": {
        "id": "HsuxO64jfO48"
      }
    },
    {
      "cell_type": "code",
      "source": [
        "from keras.models import Sequential\n",
        "from keras.layers import Embedding, LSTM, Dense, Dropout\n",
        "from keras.optimizers import Adam\n",
        "\n",
        "# Model Architecture\n",
        "embedding_dim = 100\n",
        "lstm_units = 128\n",
        "\n",
        "rnn_model = Sequential()\n",
        "rnn_model.add(Embedding(max_words, embedding_dim, input_length=maxlen))\n",
        "rnn_model.add(LSTM(lstm_units, dropout=0.2, recurrent_dropout=0.2))\n",
        "rnn_model.add(Dense(128, activation='relu'))\n",
        "rnn_model.add(Dropout(0.5))\n",
        "rnn_model.add(Dense(3, activation='softmax'))  # 3 classes: positive, negative, neutral\n",
        "\n",
        "rnn_model.compile(optimizer=Adam(lr=0.001),\n",
        "                  loss='categorical_crossentropy',\n",
        "                  metrics=['accuracy'])\n",
        "\n",
        "# Training the model\n",
        "rnn_history = rnn_model.fit(X_train_resampled, y_train_resampled_cat,\n",
        "                            epochs=25,\n",
        "                            batch_size=32,\n",
        "                            validation_data=(X_valid_pad, y_valid_cat))\n",
        "\n",
        "# Evaluating the model\n",
        "rnn_loss, rnn_accuracy = rnn_model.evaluate(X_valid_pad, y_valid_cat)\n",
        "print(\"RNN Validation Accuracy:\", rnn_accuracy)\n",
        "\n",
        "# Predictions and Classification Report\n",
        "rnn_y_pred = rnn_model.predict(X_valid_pad)\n",
        "rnn_y_pred_classes = np.argmax(rnn_y_pred, axis=1)\n",
        "rnn_y_true = np.argmax(y_valid_cat, axis=1)\n",
        "\n",
        "print(classification_report(rnn_y_true, rnn_y_pred_classes, target_names=encoder.classes_))"
      ],
      "metadata": {
        "colab": {
          "base_uri": "https://localhost:8080/"
        },
        "id": "F3J9gxKQl3mx",
        "outputId": "59dc9d34-fffe-42c4-af0d-42a1b2c83400"
      },
      "execution_count": null,
      "outputs": [
        {
          "output_type": "stream",
          "name": "stderr",
          "text": [
            "WARNING:absl:`lr` is deprecated in Keras optimizer, please use `learning_rate` or use the legacy optimizer, e.g.,tf.keras.optimizers.legacy.Adam.\n"
          ]
        },
        {
          "output_type": "stream",
          "name": "stdout",
          "text": [
            "Epoch 1/25\n",
            "580/580 [==============================] - 252s 426ms/step - loss: 1.0995 - accuracy: 0.3396 - val_loss: 1.0916 - val_accuracy: 0.6558\n",
            "Epoch 2/25\n",
            "580/580 [==============================] - 247s 426ms/step - loss: 1.0989 - accuracy: 0.3258 - val_loss: 1.0962 - val_accuracy: 0.6558\n",
            "Epoch 3/25\n",
            "580/580 [==============================] - 252s 434ms/step - loss: 1.0991 - accuracy: 0.3361 - val_loss: 1.1049 - val_accuracy: 0.1453\n",
            "Epoch 4/25\n",
            "580/580 [==============================] - 247s 427ms/step - loss: 1.0991 - accuracy: 0.3341 - val_loss: 1.1010 - val_accuracy: 0.1989\n",
            "Epoch 5/25\n",
            "580/580 [==============================] - 246s 424ms/step - loss: 1.0989 - accuracy: 0.3310 - val_loss: 1.0997 - val_accuracy: 0.1453\n",
            "Epoch 6/25\n",
            "580/580 [==============================] - 246s 424ms/step - loss: 1.0990 - accuracy: 0.3316 - val_loss: 1.0898 - val_accuracy: 0.6558\n",
            "Epoch 7/25\n",
            "580/580 [==============================] - 247s 427ms/step - loss: 1.0989 - accuracy: 0.3319 - val_loss: 1.0924 - val_accuracy: 0.6558\n",
            "Epoch 8/25\n",
            "580/580 [==============================] - 253s 436ms/step - loss: 1.0988 - accuracy: 0.3307 - val_loss: 1.0983 - val_accuracy: 0.1453\n",
            "Epoch 9/25\n",
            "580/580 [==============================] - 248s 427ms/step - loss: 1.0989 - accuracy: 0.3376 - val_loss: 1.0992 - val_accuracy: 0.1989\n",
            "Epoch 10/25\n",
            "580/580 [==============================] - 246s 425ms/step - loss: 1.0988 - accuracy: 0.3312 - val_loss: 1.0941 - val_accuracy: 0.6558\n",
            "Epoch 11/25\n",
            "580/580 [==============================] - 250s 431ms/step - loss: 1.0990 - accuracy: 0.3333 - val_loss: 1.0960 - val_accuracy: 0.1989\n",
            "Epoch 12/25\n",
            "580/580 [==============================] - 247s 426ms/step - loss: 1.0988 - accuracy: 0.3312 - val_loss: 1.1012 - val_accuracy: 0.1989\n",
            "Epoch 13/25\n",
            "580/580 [==============================] - 246s 424ms/step - loss: 1.0987 - accuracy: 0.3256 - val_loss: 1.0979 - val_accuracy: 0.1989\n",
            "Epoch 14/25\n",
            "580/580 [==============================] - 246s 424ms/step - loss: 1.0987 - accuracy: 0.3349 - val_loss: 1.0957 - val_accuracy: 0.6558\n",
            "Epoch 15/25\n",
            "580/580 [==============================] - 246s 424ms/step - loss: 1.0987 - accuracy: 0.3283 - val_loss: 1.0962 - val_accuracy: 0.6558\n",
            "Epoch 16/25\n",
            "580/580 [==============================] - 246s 423ms/step - loss: 1.0987 - accuracy: 0.3335 - val_loss: 1.1012 - val_accuracy: 0.1989\n",
            "Epoch 17/25\n",
            "580/580 [==============================] - 245s 422ms/step - loss: 1.0987 - accuracy: 0.3284 - val_loss: 1.0961 - val_accuracy: 0.6558\n",
            "Epoch 18/25\n",
            "580/580 [==============================] - 245s 422ms/step - loss: 1.0987 - accuracy: 0.3285 - val_loss: 1.1007 - val_accuracy: 0.1453\n",
            "Epoch 19/25\n",
            "580/580 [==============================] - 251s 433ms/step - loss: 1.0987 - accuracy: 0.3292 - val_loss: 1.1010 - val_accuracy: 0.1989\n",
            "Epoch 20/25\n",
            "580/580 [==============================] - 247s 426ms/step - loss: 1.0987 - accuracy: 0.3266 - val_loss: 1.1003 - val_accuracy: 0.1453\n",
            "Epoch 21/25\n",
            "580/580 [==============================] - 248s 428ms/step - loss: 1.0987 - accuracy: 0.3334 - val_loss: 1.0965 - val_accuracy: 0.6558\n",
            "Epoch 22/25\n",
            "580/580 [==============================] - 245s 423ms/step - loss: 1.0987 - accuracy: 0.3296 - val_loss: 1.0957 - val_accuracy: 0.6558\n",
            "Epoch 23/25\n",
            "580/580 [==============================] - 247s 426ms/step - loss: 1.0991 - accuracy: 0.3358 - val_loss: 1.0947 - val_accuracy: 0.6558\n",
            "Epoch 24/25\n",
            "580/580 [==============================] - 248s 427ms/step - loss: 1.0987 - accuracy: 0.3356 - val_loss: 1.0972 - val_accuracy: 0.1989\n",
            "Epoch 25/25\n",
            "580/580 [==============================] - 248s 428ms/step - loss: 1.0987 - accuracy: 0.3316 - val_loss: 1.0936 - val_accuracy: 0.6558\n",
            "75/75 [==============================] - 4s 57ms/step - loss: 1.0936 - accuracy: 0.6558\n",
            "RNN Validation Accuracy: 0.6557788848876953\n",
            "75/75 [==============================] - 4s 49ms/step\n",
            "              precision    recall  f1-score   support\n",
            "\n",
            "    negative       0.00      0.00      0.00       347\n",
            "     neutral       0.66      1.00      0.79      1566\n",
            "    positive       0.00      0.00      0.00       475\n",
            "\n",
            "    accuracy                           0.66      2388\n",
            "   macro avg       0.22      0.33      0.26      2388\n",
            "weighted avg       0.43      0.66      0.52      2388\n",
            "\n"
          ]
        },
        {
          "output_type": "stream",
          "name": "stderr",
          "text": [
            "/usr/local/lib/python3.10/dist-packages/sklearn/metrics/_classification.py:1344: UndefinedMetricWarning: Precision and F-score are ill-defined and being set to 0.0 in labels with no predicted samples. Use `zero_division` parameter to control this behavior.\n",
            "  _warn_prf(average, modifier, msg_start, len(result))\n",
            "/usr/local/lib/python3.10/dist-packages/sklearn/metrics/_classification.py:1344: UndefinedMetricWarning: Precision and F-score are ill-defined and being set to 0.0 in labels with no predicted samples. Use `zero_division` parameter to control this behavior.\n",
            "  _warn_prf(average, modifier, msg_start, len(result))\n",
            "/usr/local/lib/python3.10/dist-packages/sklearn/metrics/_classification.py:1344: UndefinedMetricWarning: Precision and F-score are ill-defined and being set to 0.0 in labels with no predicted samples. Use `zero_division` parameter to control this behavior.\n",
            "  _warn_prf(average, modifier, msg_start, len(result))\n"
          ]
        }
      ]
    },
    {
      "cell_type": "code",
      "source": [
        "import numpy as np\n",
        "import matplotlib.pyplot as plt\n",
        "import seaborn as sns\n",
        "from sklearn.metrics import classification_report, confusion_matrix\n",
        "\n",
        "# Confusion Matrix\n",
        "conf_matrix = confusion_matrix(rnn_y_true, rnn_y_pred_classes)\n",
        "\n",
        "# Plot Confusion Matrix\n",
        "plt.figure(figsize=(8, 6))\n",
        "sns.heatmap(conf_matrix, annot=True, fmt='d', cmap='Blues', xticklabels=encoder.classes_, yticklabels=encoder.classes_)\n",
        "plt.xlabel('Predicted Label')\n",
        "plt.ylabel('True Label')\n",
        "plt.title('Confusion Matrix')\n",
        "plt.show()"
      ],
      "metadata": {
        "colab": {
          "base_uri": "https://localhost:8080/",
          "height": 564
        },
        "id": "AvygQUkSg5D6",
        "outputId": "863070bb-1507-43a5-fd73-1ad486587077"
      },
      "execution_count": null,
      "outputs": [
        {
          "output_type": "display_data",
          "data": {
            "text/plain": [
              "<Figure size 800x600 with 2 Axes>"
            ],
            "image/png": "[encoded data removed]"
          },
          "metadata": {}
        }
      ]
    },
    {
      "cell_type": "code",
      "source": [],
      "metadata": {
        "id": "AO7wjTL1hCn7"
      },
      "execution_count": null,
      "outputs": []
    }
  ]
}